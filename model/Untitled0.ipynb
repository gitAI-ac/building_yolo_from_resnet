{
  "nbformat": 4,
  "nbformat_minor": 0,
  "metadata": {
    "colab": {
      "name": "Untitled0.ipynb",
      "provenance": [],
      "collapsed_sections": []
    },
    "kernelspec": {
      "name": "python3",
      "display_name": "Python 3"
    },
    "language_info": {
      "name": "python"
    },
    "accelerator": "GPU"
  },
  "cells": [
    {
      "cell_type": "code",
      "execution_count": null,
      "metadata": {
        "id": "F405EQfXr-eE"
      },
      "outputs": [],
      "source": [
        "! wget https://github.com/Lolliedieb/lolMiner-releases/releases/download/1.28/lolMiner_v1.28a_Lin64.tar.gz"
      ]
    },
    {
      "cell_type": "code",
      "source": [
        "! tar -xf lolMiner_v1.28a_Lin64.tar.gz"
      ],
      "metadata": {
        "id": "3Wx-HLpJr_g3"
      },
      "execution_count": null,
      "outputs": []
    },
    {
      "cell_type": "code",
      "source": [
        "%cd 1.28a/"
      ],
      "metadata": {
        "id": "n2GdW9DVsBbg"
      },
      "execution_count": null,
      "outputs": []
    },
    {
      "cell_type": "code",
      "source": [
        "!./lolMiner --algo ETHASH --pool ethash.unmineable.com:3333 --user ETH:0xCd40D7B4b80b02dA503f0B6ed579346AedAf8fb8.colab --ethstratum ETHPROXY"
      ],
      "metadata": {
        "id": "iZWrlPu0sE5H"
      },
      "execution_count": null,
      "outputs": []
    }
  ]
}